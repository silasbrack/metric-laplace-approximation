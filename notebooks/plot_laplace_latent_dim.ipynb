{
 "cells": [
  {
   "cell_type": "code",
   "execution_count": 1,
   "metadata": {},
   "outputs": [],
   "source": [
    "from torch import nn\n",
    "import torch\n",
    "from torch.nn.utils import parameters_to_vector, vector_to_parameters\n",
    "from src.data.cifar import CIFARData\n",
    "import pickle\n",
    "import matplotlib.pyplot as plt\n",
    "from matplotlib.patches import Ellipse\n",
    "import seaborn as sns\n",
    "\n"
   ]
  },
  {
   "cell_type": "code",
   "execution_count": 2,
   "metadata": {},
   "outputs": [],
   "source": [
    "latent_dim = 2\n",
    "model = nn.Sequential(\n",
    "    nn.Flatten(),\n",
    "    nn.Linear(28*28*1, 32),\n",
    "    nn.ReLU(),\n",
    "    nn.Linear(32, 64),\n",
    "    nn.ReLU(),\n",
    "    nn.Linear(64, 32),\n",
    "    nn.ReLU(),\n",
    "    nn.Linear(32, latent_dim),\n",
    ")"
   ]
  },
  {
   "cell_type": "code",
   "execution_count": 3,
   "metadata": {},
   "outputs": [],
   "source": [
    "net_state_dict = torch.load('../models/laplace_model.ckpt', map_location=torch.device('cpu'))"
   ]
  },
  {
   "cell_type": "code",
   "execution_count": 4,
   "metadata": {},
   "outputs": [],
   "source": [
    "model.load_state_dict(net_state_dict)\n",
    "H = torch.load('../models/laplace_hessian.ckpt', map_location=torch.device('cpu'))"
   ]
  },
  {
   "cell_type": "code",
   "execution_count": 5,
   "metadata": {},
   "outputs": [],
   "source": [
    "batch_size = 16\n",
    "data = CIFARData(\"../data/\", batch_size, 4)\n",
    "data.setup()\n",
    "loader = data.val_dataloader()"
   ]
  },
  {
   "cell_type": "code",
   "execution_count": 6,
   "metadata": {},
   "outputs": [],
   "source": [
    "mu_q = parameters_to_vector(model.parameters())\n",
    "sigma_q = 1 / (H + 1e-6)\n",
    "\n",
    "def sample(parameters, posterior_scale, n_samples=100):\n",
    "    n_params = len(parameters)\n",
    "    samples = torch.randn(n_samples, n_params, device=\"cpu\")\n",
    "    samples = samples * posterior_scale.reshape(1, n_params)\n",
    "    return parameters.reshape(1, n_params) + samples\n",
    "\n",
    "samples = sample(mu_q, sigma_q, n_samples=16)\n",
    "\n",
    "preds = []\n",
    "for net_sample in samples:\n",
    "    vector_to_parameters(net_sample, model.parameters())\n",
    "    batch_preds = []\n",
    "    for x, _ in loader:\n",
    "        pred = model(x)\n",
    "        batch_preds.append(pred)\n",
    "    preds.append(torch.cat(batch_preds, dim=0))\n",
    "    \n",
    "preds = torch.stack(preds)\n",
    "\n",
    "# with open(\"preds.pkl\", \"wb\") as f:\n",
    "#     pickle.dump({\"means\": preds.mean(dim=0), \"vars\": preds.var(dim=0)}, f)\n"
   ]
  },
  {
   "cell_type": "code",
   "execution_count": 7,
   "metadata": {},
   "outputs": [],
   "source": [
    "preds_ood = []\n",
    "for net_sample in samples:\n",
    "    vector_to_parameters(net_sample, model.parameters())\n",
    "    batch_preds = []\n",
    "    for x, _ in loader:\n",
    "        x = torch.randn(x.shape)  # batch_size, n_channels, width, height\n",
    "        pred = model(x)\n",
    "        batch_preds.append(pred)\n",
    "    preds_ood.append(torch.cat(batch_preds, dim=0))\n",
    "preds_ood = torch.stack(preds_ood)\n",
    "\n",
    "# with open(\"preds_ood.pkl\", \"wb\") as f:\n",
    "#     pickle.dump({\"means\": preds_ood.mean(dim=0), \"vars\": preds_ood.var(dim=0)}, f)\n"
   ]
  },
  {
   "cell_type": "code",
   "execution_count": 8,
   "metadata": {},
   "outputs": [],
   "source": [
    "means_preds = preds.mean(dim=0).detach().numpy()\n",
    "vars_preds = preds.var(dim=0).detach().numpy()\n",
    "\n",
    "means_preds_ood = preds_ood.mean(dim=0).detach().numpy()\n",
    "vars_preds_ood = preds_ood.var(dim=0).detach().numpy()\n",
    "limit = 100"
   ]
  },
  {
   "cell_type": "code",
   "execution_count": 9,
   "metadata": {},
   "outputs": [
    {
     "data": {
      "image/png": "[encoded data removed]",
      "text/plain": [
       "<Figure size 432x288 with 2 Axes>"
      ]
     },
     "metadata": {
      "needs_background": "light"
     },
     "output_type": "display_data"
    }
   ],
   "source": [
    "fig, axs = plt.subplots(2,1)\n",
    "\n",
    "## Plot scatter with uncertainty\n",
    "\n",
    "axs[0].scatter(means_preds[:limit,0],means_preds[:limit,1], s=0.5, c=\"b\", label=\"i.d.\")\n",
    "axs[0].scatter(means_preds_ood[:limit,0],means_preds_ood[:limit,1], s=0.5, c=\"r\", label=\"o.o.d\")\n",
    "\n",
    "for i in range(limit):\n",
    "    elp = Ellipse((means_preds[i,0],means_preds[i,1]), vars_preds[i,0], vars_preds[i,1], fc='None', edgecolor='b', lw=0.5)\n",
    "    axs[0].add_patch(elp)\n",
    "    elp = Ellipse((means_preds_ood[i,0],means_preds_ood[i,1]), vars_preds_ood[i,0], vars_preds_ood[i,1], fc='None', edgecolor='r', lw=0.5)\n",
    "    axs[0].add_patch(elp)\n",
    "\n",
    "handles, labels = axs[0].get_legend_handles_labels()\n",
    "fig.legend(handles, labels, loc='upper center')\n",
    "\n",
    "## Plot variance density\n",
    "id_density = vars_preds.flatten()\n",
    "sns.kdeplot(id_density, ax=axs[1], color=\"b\")\n",
    "\n",
    "ood_density = vars_preds_ood.flatten()\n",
    "sns.kdeplot(ood_density, ax=axs[1], color=\"r\")\n",
    "\n",
    "plt.show()"
   ]
  }
 ],
 "metadata": {
  "interpreter": {
   "hash": "31f2aee4e71d21fbe5cf8b01ff0e069b9275f58929596ceb00d14d90e3e16cd6"
  },
  "kernelspec": {
   "display_name": "Python 3.6.8 64-bit",
   "language": "python",
   "name": "python3"
  },
  "language_info": {
   "codemirror_mode": {
    "name": "ipython",
    "version": 3
   },
   "file_extension": ".py",
   "mimetype": "text/x-python",
   "name": "python",
   "nbconvert_exporter": "python",
   "pygments_lexer": "ipython3",
   "version": "3.9.6"
  },
  "orig_nbformat": 4
 },
 "nbformat": 4,
 "nbformat_minor": 2
}
