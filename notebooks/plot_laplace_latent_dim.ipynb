{
 "cells": [
  {
   "cell_type": "code",
   "execution_count": 3,
   "metadata": {},
   "outputs": [],
   "source": [
    "from torch import nn\n",
    "import torch\n",
    "from torch.nn.utils import parameters_to_vector, vector_to_parameters\n",
    "from src.data.cifar import CIFARData\n",
    "from src.models.conv_net import ConvNet\n",
    "import matplotlib.pyplot as plt\n",
    "from matplotlib.patches import Ellipse\n",
    "import seaborn as sns\n",
    "\n",
    "\n",
    "latent_dim = 2\n",
    "model = ConvNet(latent_dim=2, n_channels=1)\n",
    "inference_model = model.linear\n",
    "\n",
    "net_state_dict = torch.load('./models/laplace_model.ckpt', map_location=torch.device('cpu'))\n",
    "model.load_state_dict(net_state_dict)\n",
    "H = torch.load('./models/laplace_hessian.ckpt', map_location=torch.device('cpu'))"
   ]
  },
  {
   "cell_type": "code",
   "execution_count": 4,
   "metadata": {},
   "outputs": [
    {
     "ename": "RuntimeError",
     "evalue": "[enforce fail at alloc_cpu.cpp:73] . DefaultCPUAllocator: can't allocate memory: you tried to allocate 1179648 bytes. Error code 12 (Cannot allocate memory)",
     "output_type": "error",
     "traceback": [
      "\u001b[0;31m---------------------------------------------------------------------------\u001b[0m",
      "\u001b[0;31mRuntimeError\u001b[0m                              Traceback (most recent call last)",
      "\u001b[1;32m/zhome/14/5/127713/Documents/metric-laplace-approximation/notebooks/plot_laplace_latent_dim.ipynb Cell 2'\u001b[0m in \u001b[0;36m<cell line: 32>\u001b[0;34m()\u001b[0m\n\u001b[1;32m     <a href='vscode-notebook-cell://ssh-remote%2Blogin2.hpc.dtu.dk/zhome/14/5/127713/Documents/metric-laplace-approximation/notebooks/plot_laplace_latent_dim.ipynb#ch0000001vscode-remote?line=34'>35</a>\u001b[0m \u001b[39mfor\u001b[39;00m x, _ \u001b[39min\u001b[39;00m loader:\n\u001b[1;32m     <a href='vscode-notebook-cell://ssh-remote%2Blogin2.hpc.dtu.dk/zhome/14/5/127713/Documents/metric-laplace-approximation/notebooks/plot_laplace_latent_dim.ipynb#ch0000001vscode-remote?line=35'>36</a>\u001b[0m     x \u001b[39m=\u001b[39m torch\u001b[39m.\u001b[39mrandn(x\u001b[39m.\u001b[39mshape)  \u001b[39m# batch_size, n_channels, width, height\u001b[39;00m\n\u001b[0;32m---> <a href='vscode-notebook-cell://ssh-remote%2Blogin2.hpc.dtu.dk/zhome/14/5/127713/Documents/metric-laplace-approximation/notebooks/plot_laplace_latent_dim.ipynb#ch0000001vscode-remote?line=36'>37</a>\u001b[0m     pred \u001b[39m=\u001b[39m model(x)\n\u001b[1;32m     <a href='vscode-notebook-cell://ssh-remote%2Blogin2.hpc.dtu.dk/zhome/14/5/127713/Documents/metric-laplace-approximation/notebooks/plot_laplace_latent_dim.ipynb#ch0000001vscode-remote?line=37'>38</a>\u001b[0m     batch_preds\u001b[39m.\u001b[39mappend(pred)\n\u001b[1;32m     <a href='vscode-notebook-cell://ssh-remote%2Blogin2.hpc.dtu.dk/zhome/14/5/127713/Documents/metric-laplace-approximation/notebooks/plot_laplace_latent_dim.ipynb#ch0000001vscode-remote?line=38'>39</a>\u001b[0m preds_ood\u001b[39m.\u001b[39mappend(torch\u001b[39m.\u001b[39mcat(batch_preds, dim\u001b[39m=\u001b[39m\u001b[39m0\u001b[39m))\n",
      "File \u001b[0;32m~/Documents/metric-laplace-approximation/venv/lib/python3.9/site-packages/torch/nn/modules/module.py:1110\u001b[0m, in \u001b[0;36mModule._call_impl\u001b[0;34m(self, *input, **kwargs)\u001b[0m\n\u001b[1;32m   <a href='file:///zhome/14/5/127713/Documents/metric-laplace-approximation/venv/lib/python3.9/site-packages/torch/nn/modules/module.py?line=1105'>1106</a>\u001b[0m \u001b[39m# If we don't have any hooks, we want to skip the rest of the logic in\u001b[39;00m\n\u001b[1;32m   <a href='file:///zhome/14/5/127713/Documents/metric-laplace-approximation/venv/lib/python3.9/site-packages/torch/nn/modules/module.py?line=1106'>1107</a>\u001b[0m \u001b[39m# this function, and just call forward.\u001b[39;00m\n\u001b[1;32m   <a href='file:///zhome/14/5/127713/Documents/metric-laplace-approximation/venv/lib/python3.9/site-packages/torch/nn/modules/module.py?line=1107'>1108</a>\u001b[0m \u001b[39mif\u001b[39;00m \u001b[39mnot\u001b[39;00m (\u001b[39mself\u001b[39m\u001b[39m.\u001b[39m_backward_hooks \u001b[39mor\u001b[39;00m \u001b[39mself\u001b[39m\u001b[39m.\u001b[39m_forward_hooks \u001b[39mor\u001b[39;00m \u001b[39mself\u001b[39m\u001b[39m.\u001b[39m_forward_pre_hooks \u001b[39mor\u001b[39;00m _global_backward_hooks\n\u001b[1;32m   <a href='file:///zhome/14/5/127713/Documents/metric-laplace-approximation/venv/lib/python3.9/site-packages/torch/nn/modules/module.py?line=1108'>1109</a>\u001b[0m         \u001b[39mor\u001b[39;00m _global_forward_hooks \u001b[39mor\u001b[39;00m _global_forward_pre_hooks):\n\u001b[0;32m-> <a href='file:///zhome/14/5/127713/Documents/metric-laplace-approximation/venv/lib/python3.9/site-packages/torch/nn/modules/module.py?line=1109'>1110</a>\u001b[0m     \u001b[39mreturn\u001b[39;00m forward_call(\u001b[39m*\u001b[39;49m\u001b[39minput\u001b[39;49m, \u001b[39m*\u001b[39;49m\u001b[39m*\u001b[39;49mkwargs)\n\u001b[1;32m   <a href='file:///zhome/14/5/127713/Documents/metric-laplace-approximation/venv/lib/python3.9/site-packages/torch/nn/modules/module.py?line=1110'>1111</a>\u001b[0m \u001b[39m# Do not call functions when jit is used\u001b[39;00m\n\u001b[1;32m   <a href='file:///zhome/14/5/127713/Documents/metric-laplace-approximation/venv/lib/python3.9/site-packages/torch/nn/modules/module.py?line=1111'>1112</a>\u001b[0m full_backward_hooks, non_full_backward_hooks \u001b[39m=\u001b[39m [], []\n",
      "File \u001b[0;32m~/Documents/metric-laplace-approximation/src/models/conv_net.py:41\u001b[0m, in \u001b[0;36mConvNet.forward\u001b[0;34m(self, x)\u001b[0m\n\u001b[1;32m     <a href='file:///zhome/14/5/127713/Documents/metric-laplace-approximation/src/models/conv_net.py?line=39'>40</a>\u001b[0m \u001b[39mdef\u001b[39;00m \u001b[39mforward\u001b[39m(\u001b[39mself\u001b[39m, x):\n\u001b[0;32m---> <a href='file:///zhome/14/5/127713/Documents/metric-laplace-approximation/src/models/conv_net.py?line=40'>41</a>\u001b[0m     x \u001b[39m=\u001b[39m \u001b[39mself\u001b[39;49m\u001b[39m.\u001b[39;49mconv(x)\n\u001b[1;32m     <a href='file:///zhome/14/5/127713/Documents/metric-laplace-approximation/src/models/conv_net.py?line=41'>42</a>\u001b[0m     x \u001b[39m=\u001b[39m \u001b[39mself\u001b[39m\u001b[39m.\u001b[39mlinear(x)\n\u001b[1;32m     <a href='file:///zhome/14/5/127713/Documents/metric-laplace-approximation/src/models/conv_net.py?line=42'>43</a>\u001b[0m     \u001b[39mreturn\u001b[39;00m x\n",
      "File \u001b[0;32m~/Documents/metric-laplace-approximation/venv/lib/python3.9/site-packages/torch/nn/modules/module.py:1110\u001b[0m, in \u001b[0;36mModule._call_impl\u001b[0;34m(self, *input, **kwargs)\u001b[0m\n\u001b[1;32m   <a href='file:///zhome/14/5/127713/Documents/metric-laplace-approximation/venv/lib/python3.9/site-packages/torch/nn/modules/module.py?line=1105'>1106</a>\u001b[0m \u001b[39m# If we don't have any hooks, we want to skip the rest of the logic in\u001b[39;00m\n\u001b[1;32m   <a href='file:///zhome/14/5/127713/Documents/metric-laplace-approximation/venv/lib/python3.9/site-packages/torch/nn/modules/module.py?line=1106'>1107</a>\u001b[0m \u001b[39m# this function, and just call forward.\u001b[39;00m\n\u001b[1;32m   <a href='file:///zhome/14/5/127713/Documents/metric-laplace-approximation/venv/lib/python3.9/site-packages/torch/nn/modules/module.py?line=1107'>1108</a>\u001b[0m \u001b[39mif\u001b[39;00m \u001b[39mnot\u001b[39;00m (\u001b[39mself\u001b[39m\u001b[39m.\u001b[39m_backward_hooks \u001b[39mor\u001b[39;00m \u001b[39mself\u001b[39m\u001b[39m.\u001b[39m_forward_hooks \u001b[39mor\u001b[39;00m \u001b[39mself\u001b[39m\u001b[39m.\u001b[39m_forward_pre_hooks \u001b[39mor\u001b[39;00m _global_backward_hooks\n\u001b[1;32m   <a href='file:///zhome/14/5/127713/Documents/metric-laplace-approximation/venv/lib/python3.9/site-packages/torch/nn/modules/module.py?line=1108'>1109</a>\u001b[0m         \u001b[39mor\u001b[39;00m _global_forward_hooks \u001b[39mor\u001b[39;00m _global_forward_pre_hooks):\n\u001b[0;32m-> <a href='file:///zhome/14/5/127713/Documents/metric-laplace-approximation/venv/lib/python3.9/site-packages/torch/nn/modules/module.py?line=1109'>1110</a>\u001b[0m     \u001b[39mreturn\u001b[39;00m forward_call(\u001b[39m*\u001b[39;49m\u001b[39minput\u001b[39;49m, \u001b[39m*\u001b[39;49m\u001b[39m*\u001b[39;49mkwargs)\n\u001b[1;32m   <a href='file:///zhome/14/5/127713/Documents/metric-laplace-approximation/venv/lib/python3.9/site-packages/torch/nn/modules/module.py?line=1110'>1111</a>\u001b[0m \u001b[39m# Do not call functions when jit is used\u001b[39;00m\n\u001b[1;32m   <a href='file:///zhome/14/5/127713/Documents/metric-laplace-approximation/venv/lib/python3.9/site-packages/torch/nn/modules/module.py?line=1111'>1112</a>\u001b[0m full_backward_hooks, non_full_backward_hooks \u001b[39m=\u001b[39m [], []\n",
      "File \u001b[0;32m~/Documents/metric-laplace-approximation/venv/lib/python3.9/site-packages/torch/nn/modules/container.py:141\u001b[0m, in \u001b[0;36mSequential.forward\u001b[0;34m(self, input)\u001b[0m\n\u001b[1;32m    <a href='file:///zhome/14/5/127713/Documents/metric-laplace-approximation/venv/lib/python3.9/site-packages/torch/nn/modules/container.py?line=138'>139</a>\u001b[0m \u001b[39mdef\u001b[39;00m \u001b[39mforward\u001b[39m(\u001b[39mself\u001b[39m, \u001b[39minput\u001b[39m):\n\u001b[1;32m    <a href='file:///zhome/14/5/127713/Documents/metric-laplace-approximation/venv/lib/python3.9/site-packages/torch/nn/modules/container.py?line=139'>140</a>\u001b[0m     \u001b[39mfor\u001b[39;00m module \u001b[39min\u001b[39;00m \u001b[39mself\u001b[39m:\n\u001b[0;32m--> <a href='file:///zhome/14/5/127713/Documents/metric-laplace-approximation/venv/lib/python3.9/site-packages/torch/nn/modules/container.py?line=140'>141</a>\u001b[0m         \u001b[39minput\u001b[39m \u001b[39m=\u001b[39m module(\u001b[39minput\u001b[39;49m)\n\u001b[1;32m    <a href='file:///zhome/14/5/127713/Documents/metric-laplace-approximation/venv/lib/python3.9/site-packages/torch/nn/modules/container.py?line=141'>142</a>\u001b[0m     \u001b[39mreturn\u001b[39;00m \u001b[39minput\u001b[39m\n",
      "File \u001b[0;32m~/Documents/metric-laplace-approximation/venv/lib/python3.9/site-packages/torch/nn/modules/module.py:1110\u001b[0m, in \u001b[0;36mModule._call_impl\u001b[0;34m(self, *input, **kwargs)\u001b[0m\n\u001b[1;32m   <a href='file:///zhome/14/5/127713/Documents/metric-laplace-approximation/venv/lib/python3.9/site-packages/torch/nn/modules/module.py?line=1105'>1106</a>\u001b[0m \u001b[39m# If we don't have any hooks, we want to skip the rest of the logic in\u001b[39;00m\n\u001b[1;32m   <a href='file:///zhome/14/5/127713/Documents/metric-laplace-approximation/venv/lib/python3.9/site-packages/torch/nn/modules/module.py?line=1106'>1107</a>\u001b[0m \u001b[39m# this function, and just call forward.\u001b[39;00m\n\u001b[1;32m   <a href='file:///zhome/14/5/127713/Documents/metric-laplace-approximation/venv/lib/python3.9/site-packages/torch/nn/modules/module.py?line=1107'>1108</a>\u001b[0m \u001b[39mif\u001b[39;00m \u001b[39mnot\u001b[39;00m (\u001b[39mself\u001b[39m\u001b[39m.\u001b[39m_backward_hooks \u001b[39mor\u001b[39;00m \u001b[39mself\u001b[39m\u001b[39m.\u001b[39m_forward_hooks \u001b[39mor\u001b[39;00m \u001b[39mself\u001b[39m\u001b[39m.\u001b[39m_forward_pre_hooks \u001b[39mor\u001b[39;00m _global_backward_hooks\n\u001b[1;32m   <a href='file:///zhome/14/5/127713/Documents/metric-laplace-approximation/venv/lib/python3.9/site-packages/torch/nn/modules/module.py?line=1108'>1109</a>\u001b[0m         \u001b[39mor\u001b[39;00m _global_forward_hooks \u001b[39mor\u001b[39;00m _global_forward_pre_hooks):\n\u001b[0;32m-> <a href='file:///zhome/14/5/127713/Documents/metric-laplace-approximation/venv/lib/python3.9/site-packages/torch/nn/modules/module.py?line=1109'>1110</a>\u001b[0m     \u001b[39mreturn\u001b[39;00m forward_call(\u001b[39m*\u001b[39;49m\u001b[39minput\u001b[39;49m, \u001b[39m*\u001b[39;49m\u001b[39m*\u001b[39;49mkwargs)\n\u001b[1;32m   <a href='file:///zhome/14/5/127713/Documents/metric-laplace-approximation/venv/lib/python3.9/site-packages/torch/nn/modules/module.py?line=1110'>1111</a>\u001b[0m \u001b[39m# Do not call functions when jit is used\u001b[39;00m\n\u001b[1;32m   <a href='file:///zhome/14/5/127713/Documents/metric-laplace-approximation/venv/lib/python3.9/site-packages/torch/nn/modules/module.py?line=1111'>1112</a>\u001b[0m full_backward_hooks, non_full_backward_hooks \u001b[39m=\u001b[39m [], []\n",
      "File \u001b[0;32m~/Documents/metric-laplace-approximation/venv/lib/python3.9/site-packages/torch/nn/modules/conv.py:447\u001b[0m, in \u001b[0;36mConv2d.forward\u001b[0;34m(self, input)\u001b[0m\n\u001b[1;32m    <a href='file:///zhome/14/5/127713/Documents/metric-laplace-approximation/venv/lib/python3.9/site-packages/torch/nn/modules/conv.py?line=445'>446</a>\u001b[0m \u001b[39mdef\u001b[39;00m \u001b[39mforward\u001b[39m(\u001b[39mself\u001b[39m, \u001b[39minput\u001b[39m: Tensor) \u001b[39m-\u001b[39m\u001b[39m>\u001b[39m Tensor:\n\u001b[0;32m--> <a href='file:///zhome/14/5/127713/Documents/metric-laplace-approximation/venv/lib/python3.9/site-packages/torch/nn/modules/conv.py?line=446'>447</a>\u001b[0m     \u001b[39mreturn\u001b[39;00m \u001b[39mself\u001b[39;49m\u001b[39m.\u001b[39;49m_conv_forward(\u001b[39minput\u001b[39;49m, \u001b[39mself\u001b[39;49m\u001b[39m.\u001b[39;49mweight, \u001b[39mself\u001b[39;49m\u001b[39m.\u001b[39;49mbias)\n",
      "File \u001b[0;32m~/Documents/metric-laplace-approximation/venv/lib/python3.9/site-packages/torch/nn/modules/conv.py:443\u001b[0m, in \u001b[0;36mConv2d._conv_forward\u001b[0;34m(self, input, weight, bias)\u001b[0m\n\u001b[1;32m    <a href='file:///zhome/14/5/127713/Documents/metric-laplace-approximation/venv/lib/python3.9/site-packages/torch/nn/modules/conv.py?line=438'>439</a>\u001b[0m \u001b[39mif\u001b[39;00m \u001b[39mself\u001b[39m\u001b[39m.\u001b[39mpadding_mode \u001b[39m!=\u001b[39m \u001b[39m'\u001b[39m\u001b[39mzeros\u001b[39m\u001b[39m'\u001b[39m:\n\u001b[1;32m    <a href='file:///zhome/14/5/127713/Documents/metric-laplace-approximation/venv/lib/python3.9/site-packages/torch/nn/modules/conv.py?line=439'>440</a>\u001b[0m     \u001b[39mreturn\u001b[39;00m F\u001b[39m.\u001b[39mconv2d(F\u001b[39m.\u001b[39mpad(\u001b[39minput\u001b[39m, \u001b[39mself\u001b[39m\u001b[39m.\u001b[39m_reversed_padding_repeated_twice, mode\u001b[39m=\u001b[39m\u001b[39mself\u001b[39m\u001b[39m.\u001b[39mpadding_mode),\n\u001b[1;32m    <a href='file:///zhome/14/5/127713/Documents/metric-laplace-approximation/venv/lib/python3.9/site-packages/torch/nn/modules/conv.py?line=440'>441</a>\u001b[0m                     weight, bias, \u001b[39mself\u001b[39m\u001b[39m.\u001b[39mstride,\n\u001b[1;32m    <a href='file:///zhome/14/5/127713/Documents/metric-laplace-approximation/venv/lib/python3.9/site-packages/torch/nn/modules/conv.py?line=441'>442</a>\u001b[0m                     _pair(\u001b[39m0\u001b[39m), \u001b[39mself\u001b[39m\u001b[39m.\u001b[39mdilation, \u001b[39mself\u001b[39m\u001b[39m.\u001b[39mgroups)\n\u001b[0;32m--> <a href='file:///zhome/14/5/127713/Documents/metric-laplace-approximation/venv/lib/python3.9/site-packages/torch/nn/modules/conv.py?line=442'>443</a>\u001b[0m \u001b[39mreturn\u001b[39;00m F\u001b[39m.\u001b[39;49mconv2d(\u001b[39minput\u001b[39;49m, weight, bias, \u001b[39mself\u001b[39;49m\u001b[39m.\u001b[39;49mstride,\n\u001b[1;32m    <a href='file:///zhome/14/5/127713/Documents/metric-laplace-approximation/venv/lib/python3.9/site-packages/torch/nn/modules/conv.py?line=443'>444</a>\u001b[0m                 \u001b[39mself\u001b[39;49m\u001b[39m.\u001b[39;49mpadding, \u001b[39mself\u001b[39;49m\u001b[39m.\u001b[39;49mdilation, \u001b[39mself\u001b[39;49m\u001b[39m.\u001b[39;49mgroups)\n",
      "\u001b[0;31mRuntimeError\u001b[0m: [enforce fail at alloc_cpu.cpp:73] . DefaultCPUAllocator: can't allocate memory: you tried to allocate 1179648 bytes. Error code 12 (Cannot allocate memory)"
     ]
    }
   ],
   "source": [
    "batch_size = 16\n",
    "data = CIFARData(\"data/\", batch_size, 4)\n",
    "data.setup()\n",
    "loader = data.val_dataloader()\n",
    "mu_q = parameters_to_vector(inference_model.parameters())\n",
    "sigma_q = 1 / (H + 1e-6)\n",
    "def sample(parameters, posterior_scale, n_samples=100):\n",
    "    n_params = len(parameters)\n",
    "    samples = torch.randn(n_samples, n_params, device=\"cpu\")\n",
    "    samples = samples * posterior_scale.reshape(1, n_params)\n",
    "    return parameters.reshape(1, n_params) + samples\n",
    "samples = sample(mu_q, sigma_q, n_samples=16)\n",
    "preds = []\n",
    "for net_sample in samples:\n",
    "    vector_to_parameters(net_sample, inference_model.parameters())\n",
    "    batch_preds = []\n",
    "    for x, _ in loader:\n",
    "        pred = model(x)\n",
    "        batch_preds.append(pred)\n",
    "    preds.append(torch.cat(batch_preds, dim=0))\n",
    "preds = torch.stack(preds)\n",
    "# with open(\"preds.pkl\", \"wb\") as f:\n",
    "#     pickle.dump({\"means\": preds.mean(dim=0), \"vars\": preds.var(dim=0)}, f)\n",
    "preds_ood = []\n",
    "for net_sample in samples:\n",
    "    vector_to_parameters(net_sample, inference_model.parameters())\n",
    "    batch_preds = []\n",
    "    for x, _ in loader:\n",
    "        x = torch.randn(x.shape)  # batch_size, n_channels, width, height\n",
    "        pred = model(x)\n",
    "        batch_preds.append(pred)\n",
    "    preds_ood.append(torch.cat(batch_preds, dim=0))\n",
    "preds_ood = torch.stack(preds_ood)\n",
    "# with open(\"preds_ood.pkl\", \"wb\") as f:\n",
    "#     pickle.dump({\"means\": preds_ood.mean(dim=0), \"vars\": preds_ood.var(dim=0)}, f)"
   ]
  },
  {
   "cell_type": "code",
   "execution_count": null,
   "metadata": {},
   "outputs": [],
   "source": [
    "means_preds = preds.mean(dim=0).detach().numpy()\n",
    "vars_preds = preds.var(dim=0).detach().numpy()\n",
    "\n",
    "means_preds_ood = preds_ood.mean(dim=0).detach().numpy()\n",
    "vars_preds_ood = preds_ood.var(dim=0).detach().numpy()\n",
    "\n",
    "limit = 100"
   ]
  },
  {
   "cell_type": "code",
   "execution_count": null,
   "metadata": {},
   "outputs": [],
   "source": [
    "fig, axs = plt.subplots(2,1, figsize=(15,15))\n",
    "\n",
    "## Plot scatter with uncertainty\n",
    "\n",
    "axs[0].scatter(means_preds[:limit,0],means_preds[:limit,1], s=0.5, c=\"b\", label=\"i.d.\")\n",
    "axs[0].scatter(means_preds_ood[:limit,0],means_preds_ood[:limit,1], s=0.5, c=\"r\", label=\"o.o.d\")\n",
    "\n",
    "for i in range(limit):\n",
    "    elp = Ellipse((means_preds[i,0],means_preds[i,1]), vars_preds[i,0], vars_preds[i,1], fc='None', edgecolor='b', lw=0.5)\n",
    "    axs[0].add_patch(elp)\n",
    "    elp = Ellipse((means_preds_ood[i,0],means_preds_ood[i,1]), vars_preds_ood[i,0], vars_preds_ood[i,1], fc='None', edgecolor='r', lw=0.5)\n",
    "    axs[0].add_patch(elp)\n",
    "\n",
    "handles, labels = axs[0].get_legend_handles_labels()\n",
    "fig.legend(handles, labels, loc='upper center')\n",
    "\n",
    "## Plot variance density\n",
    "id_density = vars_preds.flatten()\n",
    "sns.kdeplot(id_density, ax=axs[1], color=\"b\")\n",
    "\n",
    "ood_density = vars_preds_ood.flatten()\n",
    "sns.kdeplot(ood_density, ax=axs[1], color=\"r\")\n",
    "\n",
    "plt.show()\n"
   ]
  },
  {
   "cell_type": "code",
   "execution_count": null,
   "metadata": {},
   "outputs": [],
   "source": []
  }
 ],
 "metadata": {
  "interpreter": {
   "hash": "fd2e4499f275c767b1de42b7fc29c543d6b323315749327c2be849e5b13e133a"
  },
  "kernelspec": {
   "display_name": "Python 3.9.6 ('venv': venv)",
   "language": "python",
   "name": "python3"
  },
  "language_info": {
   "codemirror_mode": {
    "name": "ipython",
    "version": 3
   },
   "file_extension": ".py",
   "mimetype": "text/x-python",
   "name": "python",
   "nbconvert_exporter": "python",
   "pygments_lexer": "ipython3",
   "version": "3.9.6"
  },
  "orig_nbformat": 4
 },
 "nbformat": 4,
 "nbformat_minor": 2
}
